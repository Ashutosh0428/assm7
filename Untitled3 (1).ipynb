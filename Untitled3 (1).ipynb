{
 "cells": [
  {
   "cell_type": "markdown",
   "id": "6e71e489",
   "metadata": {},
   "source": [
    "# Assignment7\n"
   ]
  },
  {
   "cell_type": "code",
   "execution_count": null,
   "id": "b2f97c82",
   "metadata": {},
   "outputs": [],
   "source": [
    "1.\n",
    "re.compile() "
   ]
  },
  {
   "cell_type": "code",
   "execution_count": null,
   "id": "e67060f8",
   "metadata": {},
   "outputs": [],
   "source": [
    "2.\n",
    "Raw strings are used so that backslashes do not have to be escaped."
   ]
  },
  {
   "cell_type": "markdown",
   "id": "2fd9d66b",
   "metadata": {},
   "source": [
    "3.\n",
    "Match objects."
   ]
  },
  {
   "cell_type": "code",
   "execution_count": null,
   "id": "82117b12",
   "metadata": {},
   "outputs": [],
   "source": [
    "4.\n",
    "The group() method returns strings of the matched text."
   ]
  },
  {
   "cell_type": "code",
   "execution_count": null,
   "id": "3207bf28",
   "metadata": {},
   "outputs": [],
   "source": [
    "5.\n",
    "Group 0 is the entire match\n",
    "group 1 covers the first set of parentheses\n",
    "group 2 covers the second set of parentheses."
   ]
  },
  {
   "cell_type": "code",
   "execution_count": null,
   "id": "91ffc214",
   "metadata": {},
   "outputs": [],
   "source": [
    "6.\n",
    "Periods and parentheses can be escaped with a backslash: \\., \\(, and \\)."
   ]
  },
  {
   "cell_type": "markdown",
   "id": "d064d83e",
   "metadata": {},
   "source": [
    "7.\n",
    "If the regex has no groups, a list of strings is returned. If the regex has groups, a list of tuples of strings is returned."
   ]
  },
  {
   "cell_type": "markdown",
   "id": "51f31232",
   "metadata": {},
   "source": [
    "8.\n",
    "| is either , or between two groups."
   ]
  },
  {
   "cell_type": "code",
   "execution_count": null,
   "id": "82cdf86d",
   "metadata": {},
   "outputs": [],
   "source": [
    "9.\n",
    "matching 0 or 1"
   ]
  },
  {
   "cell_type": "code",
   "execution_count": null,
   "id": "e4b1cf2d",
   "metadata": {},
   "outputs": [],
   "source": [
    "10.\n",
    "The + matches one or more. \n",
    "The * matches zero or more."
   ]
  },
  {
   "cell_type": "code",
   "execution_count": null,
   "id": "5f4a6045",
   "metadata": {},
   "outputs": [],
   "source": [
    "11.\n",
    "The {4} matches exactly four instances of the preceding group. \n",
    "The {4,5} matches between four and five instances."
   ]
  },
  {
   "cell_type": "code",
   "execution_count": null,
   "id": "dbee23fd",
   "metadata": {},
   "outputs": [],
   "source": [
    "12.\n",
    "The \\d, \\w, and \\s shorthand character classes match a single digit, word, or space character.\n"
   ]
  },
  {
   "cell_type": "markdown",
   "id": "8c3392ed",
   "metadata": {},
   "source": [
    "13.\n",
    "The \\D, \\W, and \\S shorthand character classes match a single character that is not a digit, word, or space character"
   ]
  },
  {
   "cell_type": "markdown",
   "id": "99dcfb66",
   "metadata": {},
   "source": [
    "14.\n",
    "The . performs a greedy match, and the .? performs a nongreedy match"
   ]
  },
  {
   "cell_type": "code",
   "execution_count": null,
   "id": "35ef4740",
   "metadata": {},
   "outputs": [],
   "source": [
    "15.\n",
    "Either [0-9a-z] or [a-z0-9]"
   ]
  },
  {
   "cell_type": "code",
   "execution_count": null,
   "id": "de20c0e4",
   "metadata": {},
   "outputs": [],
   "source": [
    "16.\n",
    "Passing re.I or re.IGNORECASE"
   ]
  },
  {
   "cell_type": "markdown",
   "id": "959a15cd",
   "metadata": {},
   "source": [
    "17.\n",
    "The . character normally matches any character except the newline character. If re.DOTALL is passed as the second argument to re.compile(), then the dot will also match newline characters"
   ]
  },
  {
   "cell_type": "code",
   "execution_count": null,
   "id": "8d970725",
   "metadata": {},
   "outputs": [],
   "source": [
    "18.\n",
    "'X drummers, X pipers, five rings, X hens'"
   ]
  },
  {
   "cell_type": "code",
   "execution_count": null,
   "id": "ded974ed",
   "metadata": {},
   "outputs": [],
   "source": [
    "19.\n",
    "The re.VERBOSE argument allows you to add whitespace and comments to the string passed to re.compile().\n"
   ]
  },
  {
   "cell_type": "code",
   "execution_count": null,
   "id": "f8c78c99",
   "metadata": {},
   "outputs": [],
   "source": [
    "20.\n",
    "re.compile(r'^\\d{1,3}(,\\d{3})*$') will create this regex, but other regex strings can produce a similar regular expression"
   ]
  },
  {
   "cell_type": "code",
   "execution_count": null,
   "id": "4c8a37fd",
   "metadata": {},
   "outputs": [],
   "source": [
    "21.\n",
    "re.compile(r'[A-Z][a-z]*\\hWatanabe')"
   ]
  },
  {
   "cell_type": "code",
   "execution_count": null,
   "id": "85bc2963",
   "metadata": {},
   "outputs": [],
   "source": [
    "22.\n",
    "\n",
    "re.compile(r'(Alice|Bob|Carol)\\s(eats|pets|throws)\\s(apples|cats|baseballs)\\.', re.IGNORECASE)"
   ]
  }
 ],
 "metadata": {
  "kernelspec": {
   "display_name": "Python 3 (ipykernel)",
   "language": "python",
   "name": "python3"
  },
  "language_info": {
   "codemirror_mode": {
    "name": "ipython",
    "version": 3
   },
   "file_extension": ".py",
   "mimetype": "text/x-python",
   "name": "python",
   "nbconvert_exporter": "python",
   "pygments_lexer": "ipython3",
   "version": "3.9.7"
  }
 },
 "nbformat": 4,
 "nbformat_minor": 5
}
